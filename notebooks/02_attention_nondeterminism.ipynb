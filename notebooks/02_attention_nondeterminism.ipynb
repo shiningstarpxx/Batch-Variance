{
  "cells": [
    {
      "cell_type": "markdown",
      "metadata": {},
      "source": [
        "# 注意力机制非确定性演示\n",
        "\n",
        "本notebook演示了注意力机制中的非确定性问题，特别是Split-KV策略导致的数值差异。\n",
        "\n",
        "## 主要内容\n",
        "\n",
        "1. **注意力机制基础回顾**\n",
        "2. **Split-KV策略的非确定性**\n",
        "3. **批处理不变性解决方案**\n",
        "4. **性能对比分析**\n",
        "\n",
        "## 背景知识\n",
        "\n",
        "在LLM推理中，注意力机制的计算复杂度与序列长度成二次关系。为了优化性能，通常使用Split-KV策略将Key-Value序列分割成多个块并行处理。然而，这种策略会导致不同批处理大小下的数值结果不一致。\n"
      ]
    },
    {
      "cell_type": "code",
      "execution_count": null,
      "metadata": {},
      "outputs": [],
      "source": [
        "# 导入必要的库\n",
        "import sys\n",
        "import os\n",
        "sys.path.append(os.path.join(os.getcwd(), '..', 'src'))\n",
        "\n",
        "import torch\n",
        "import torch.nn.functional as F\n",
        "import numpy as np\n",
        "import matplotlib.pyplot as plt\n",
        "import seaborn as sns\n",
        "from attention import AttentionNondeterminismDemo\n",
        "\n",
        "# 设置中文字体\n",
        "plt.rcParams['font.sans-serif'] = ['Arial Unicode MS', 'SimHei', 'DejaVu Sans']\n",
        "plt.rcParams['axes.unicode_minus'] = False\n",
        "\n",
        "print(\"库导入完成！\")\n"
      ]
    },
    {
      "cell_type": "markdown",
      "metadata": {},
      "source": [
        "## 1. 创建注意力机制演示实例\n",
        "\n",
        "我们将在CPU上运行演示，因为Mac通常没有CUDA支持。\n"
      ]
    },
    {
      "cell_type": "code",
      "execution_count": null,
      "metadata": {},
      "outputs": [],
      "source": [
        "# 创建注意力机制演示实例\n",
        "demo = AttentionNondeterminismDemo(device='cpu')\n",
        "print(\"注意力机制演示实例创建完成！\")\n"
      ]
    },
    {
      "cell_type": "markdown",
      "metadata": {},
      "source": [
        "## 2. 比较不同注意力方法\n",
        "\n",
        "让我们比较标准注意力、Split-KV注意力和批处理不变性注意力的非确定性。\n"
      ]
    },
    {
      "cell_type": "code",
      "execution_count": null,
      "metadata": {},
      "outputs": [],
      "source": [
        "# 比较不同注意力方法\n",
        "results = demo.compare_attention_methods(\n",
        "    batch_size=2, \n",
        "    seq_len=256, \n",
        "    hidden_dim=512, \n",
        "    num_heads=8, \n",
        "    num_trials=100\n",
        ")\n"
      ]
    },
    {
      "cell_type": "markdown",
      "metadata": {},
      "source": [
        "## 3. 可视化注意力差异\n",
        "\n",
        "让我们可视化不同注意力方法之间的差异分布。\n"
      ]
    },
    {
      "cell_type": "code",
      "execution_count": null,
      "metadata": {},
      "outputs": [],
      "source": [
        "# 可视化注意力差异\n",
        "demo.visualize_attention_differences(results, '../experiments/plots/attention_differences.png')\n"
      ]
    },
    {
      "cell_type": "markdown",
      "metadata": {},
      "source": [
        "## 4. 性能基准测试\n",
        "\n",
        "让我们测试不同注意力方法的性能表现。\n"
      ]
    },
    {
      "cell_type": "code",
      "execution_count": null,
      "metadata": {},
      "outputs": [],
      "source": [
        "# 性能基准测试\n",
        "batch_sizes = [1, 2, 4, 8]\n",
        "performance_results = demo.benchmark_performance(\n",
        "    batch_sizes=batch_sizes,\n",
        "    seq_len=512,\n",
        "    hidden_dim=512,\n",
        "    num_heads=8\n",
        ")\n"
      ]
    },
    {
      "cell_type": "markdown",
      "metadata": {},
      "source": [
        "## 5. 可视化性能结果\n",
        "\n",
        "让我们可视化性能测试的结果。\n"
      ]
    },
    {
      "cell_type": "code",
      "execution_count": null,
      "metadata": {},
      "outputs": [],
      "source": [
        "# 可视化性能结果\n",
        "demo.visualize_performance(performance_results, batch_sizes, '../experiments/plots/attention_performance.png')\n"
      ]
    },
    {
      "cell_type": "markdown",
      "metadata": {},
      "source": [
        "## 6. 完整演示\n",
        "\n",
        "运行完整的注意力机制非确定性演示。\n"
      ]
    },
    {
      "cell_type": "code",
      "execution_count": null,
      "metadata": {},
      "outputs": [],
      "source": [
        "# 运行完整演示\n",
        "demo.run_complete_demo()\n"
      ]
    }
  ],
  "metadata": {
    "language_info": {
      "name": "python"
    }
  },
  "nbformat": 4,
  "nbformat_minor": 2
}

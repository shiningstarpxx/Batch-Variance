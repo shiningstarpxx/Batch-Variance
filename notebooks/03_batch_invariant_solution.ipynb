{
  "cells": [
    {
      "cell_type": "markdown",
      "metadata": {},
      "source": [
        "# 批处理不变性解决方案演示\n",
        "\n",
        "本notebook演示了批处理不变性解决方案，确保不同批处理大小下的数值结果保持一致。\n",
        "\n",
        "## 主要内容\n",
        "\n",
        "1. **批处理不变性概念**\n",
        "2. **批处理不变性操作实现**\n",
        "3. **与标准实现的对比**\n",
        "4. **性能分析**\n",
        "\n",
        "## 背景知识\n",
        "\n",
        "批处理不变性是指无论批处理大小如何变化，相同的输入都应该产生相同的数值结果。这是解决LLM推理非确定性的关键。\n"
      ]
    },
    {
      "cell_type": "code",
      "execution_count": null,
      "metadata": {},
      "outputs": [
        {
          "name": "stdout",
          "output_type": "stream",
          "text": [
            "使用中文字体: Arial Unicode MS\n",
            "库导入完成！\n"
          ]
        }
      ],
      "source": [
        "# 导入必要的库\n",
        "import sys\n",
        "import os\n",
        "sys.path.append(os.path.join(os.getcwd(), '..', 'src'))\n",
        "\n",
        "import torch\n",
        "import torch.nn.functional as F\n",
        "import numpy as np\n",
        "import matplotlib.pyplot as plt\n",
        "import seaborn as sns\n",
        "from batch_invariant import BatchInvariantDemo, BatchInvariantOps\n",
        "\n",
        "# 设置中文字体\n",
        "plt.rcParams['font.sans-serif'] = ['Arial Unicode MS', 'SimHei', 'DejaVu Sans']\n",
        "plt.rcParams['axes.unicode_minus'] = False\n",
        "\n",
        "print(\"库导入完成！\")\n"
      ]
    },
    {
      "cell_type": "markdown",
      "metadata": {},
      "source": [
        "## 1. 创建批处理不变性演示实例\n"
      ]
    },
    {
      "cell_type": "code",
      "execution_count": null,
      "metadata": {},
      "outputs": [],
      "source": [
        "# 创建批处理不变性演示实例\n",
        "demo = BatchInvariantDemo(device='cpu')\n",
        "print(\"批处理不变性演示实例创建完成！\")\n"
      ]
    },
    {
      "cell_type": "markdown",
      "metadata": {},
      "source": [
        "## 2. 演示批处理不变性\n",
        "\n",
        "让我们测试不同序列长度下的批处理不变性。\n"
      ]
    },
    {
      "cell_type": "code",
      "execution_count": null,
      "metadata": {},
      "outputs": [],
      "source": [
        "# 演示批处理不变性\n",
        "seq_lengths = [64, 128, 256, 512, 1024]\n",
        "results = demo.demonstrate_batch_invariance(\n",
        "    seq_lengths=seq_lengths,\n",
        "    hidden_dim=512,\n",
        "    num_heads=8\n",
        ")\n"
      ]
    },
    {
      "cell_type": "markdown",
      "metadata": {},
      "source": [
        "## 3. 分析批处理不变性结果\n",
        "\n",
        "让我们分析批处理不变性的效果。\n"
      ]
    },
    {
      "cell_type": "code",
      "execution_count": null,
      "metadata": {},
      "outputs": [],
      "source": [
        "# 分析批处理不变性结果\n",
        "demo.analyze_batch_invariance(results)\n"
      ]
    },
    {
      "cell_type": "markdown",
      "metadata": {},
      "source": [
        "## 4. 可视化批处理不变性结果\n",
        "\n",
        "让我们可视化批处理不变性的效果。\n"
      ]
    },
    {
      "cell_type": "code",
      "execution_count": null,
      "metadata": {},
      "outputs": [],
      "source": [
        "# 可视化批处理不变性结果\n",
        "demo.visualize_batch_invariance(results, '../experiments/plots/batch_invariance.png')\n"
      ]
    },
    {
      "cell_type": "markdown",
      "metadata": {},
      "source": [
        "## 5. 性能基准测试\n",
        "\n",
        "让我们测试批处理不变性操作的性能开销。\n"
      ]
    },
    {
      "cell_type": "code",
      "execution_count": null,
      "metadata": {},
      "outputs": [],
      "source": [
        "# 性能基准测试\n",
        "performance_results = demo.benchmark_batch_invariant_ops(\n",
        "    seq_lengths=seq_lengths,\n",
        "    hidden_dim=512,\n",
        "    num_trials=100\n",
        ")\n"
      ]
    },
    {
      "cell_type": "markdown",
      "metadata": {},
      "source": [
        "## 6. 可视化性能结果\n",
        "\n",
        "让我们可视化性能测试的结果。\n"
      ]
    },
    {
      "cell_type": "code",
      "execution_count": null,
      "metadata": {},
      "outputs": [],
      "source": [
        "# 可视化性能结果\n",
        "demo.visualize_performance(performance_results, seq_lengths, '../experiments/plots/batch_invariant_performance.png')\n"
      ]
    },
    {
      "cell_type": "markdown",
      "metadata": {},
      "source": [
        "## 7. 完整演示\n",
        "\n",
        "运行完整的批处理不变性演示。\n"
      ]
    },
    {
      "cell_type": "code",
      "execution_count": null,
      "metadata": {},
      "outputs": [],
      "source": [
        "# 运行完整演示\n",
        "demo.run_complete_demo()\n"
      ]
    }
  ],
  "metadata": {
    "kernelspec": {
      "display_name": "venv",
      "language": "python",
      "name": "python3"
    },
    "language_info": {
      "codemirror_mode": {
        "name": "ipython",
        "version": 3
      },
      "file_extension": ".py",
      "mimetype": "text/x-python",
      "name": "python",
      "nbconvert_exporter": "python",
      "pygments_lexer": "ipython3",
      "version": "3.13.3"
    }
  },
  "nbformat": 4,
  "nbformat_minor": 2
}

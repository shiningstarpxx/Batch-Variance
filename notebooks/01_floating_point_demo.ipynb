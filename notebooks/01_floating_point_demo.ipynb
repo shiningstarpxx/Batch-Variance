{
  "cells": [
    {
      "cell_type": "markdown",
      "metadata": {},
      "source": [
        "# 浮点数非结合性演示\n",
        "\n",
        "本notebook演示了浮点数运算的非结合性特性，这是导致LLM推理非确定性的根本原因之一。\n",
        "\n",
        "## 主要内容\n",
        "\n",
        "1. **浮点数非结合性基础概念**\n",
        "2. **求和顺序依赖性演示**\n",
        "3. **矩阵乘法确定性验证**\n",
        "4. **可视化分析**\n",
        "\n",
        "## 背景知识\n",
        "\n",
        "浮点数在计算机中的表示遵循IEEE 754标准，由于有限的精度，浮点数运算不满足结合律：\n",
        "$$(a + b) + c \\neq a + (b + c)$$\n",
        "\n",
        "这种非结合性在并行计算和不同批处理大小下会导致数值结果的差异。\n"
      ]
    },
    {
      "cell_type": "code",
      "execution_count": null,
      "metadata": {},
      "outputs": [
        {
          "ename": "",
          "evalue": "",
          "output_type": "error",
          "traceback": [
            "\u001b[1;31mRunning cells with 'Python 3.13.3' requires the ipykernel package.\n",
            "\u001b[1;31m<a href='command:jupyter.createPythonEnvAndSelectController'>Create a Python Environment</a> with the required packages.\n",
            "\u001b[1;31mOr install 'ipykernel' using the command: '/opt/homebrew/bin/python3 -m pip install ipykernel -U --user --force-reinstall'"
          ]
        }
      ],
      "source": [
        "# 导入必要的库\n",
        "import sys\n",
        "import os\n",
        "sys.path.append(os.path.join(os.getcwd(), '..', 'src'))\n",
        "\n",
        "import numpy as np\n",
        "import torch\n",
        "import matplotlib.pyplot as plt\n",
        "import seaborn as sns\n",
        "from floating_point import FloatingPointDemo, create_floating_point_examples\n",
        "\n",
        "# 设置中文字体\n",
        "plt.rcParams['font.sans-serif'] = ['Arial Unicode MS', 'SimHei', 'DejaVu Sans']\n",
        "plt.rcParams['axes.unicode_minus'] = False\n",
        "\n",
        "print(\"库导入完成！\")\n"
      ]
    },
    {
      "cell_type": "markdown",
      "metadata": {},
      "source": [
        "## 1. 基本非结合性演示\n",
        "\n",
        "让我们从最基本的例子开始，展示浮点数的非结合性。\n"
      ]
    },
    {
      "cell_type": "code",
      "execution_count": null,
      "metadata": {},
      "outputs": [],
      "source": [
        "# 创建演示实例\n",
        "demo = FloatingPointDemo()\n",
        "\n",
        "# 运行基本非结合性演示\n",
        "demo.demonstrate_non_associativity()\n"
      ]
    },
    {
      "cell_type": "markdown",
      "metadata": {},
      "source": [
        "## 2. 更多浮点数非结合性示例\n",
        "\n",
        "让我们看看更多不同类型的浮点数非结合性示例。\n"
      ]
    },
    {
      "cell_type": "code",
      "execution_count": null,
      "metadata": {},
      "outputs": [],
      "source": [
        "# 创建更多示例\n",
        "examples = create_floating_point_examples()\n",
        "\n",
        "print(\"=== 更多浮点数非结合性示例 ===\")\n",
        "for label, result1, result2 in examples:\n",
        "    diff = abs(result1 - result2)\n",
        "    print(f\"{label}:\")\n",
        "    print(f\"  (a + b) + c = {result1}\")\n",
        "    print(f\"  a + (b + c) = {result2}\")\n",
        "    print(f\"  差异: {diff:.2e}\")\n",
        "    print()\n"
      ]
    },
    {
      "cell_type": "markdown",
      "metadata": {},
      "source": [
        "## 3. 求和顺序依赖性演示\n",
        "\n",
        "这个演示展示了当我们将包含不同数量级的数值以不同顺序相加时会发生什么。\n"
      ]
    },
    {
      "cell_type": "code",
      "execution_count": null,
      "metadata": {},
      "outputs": [],
      "source": [
        "# 运行求和顺序依赖性演示\n",
        "results = demo.demonstrate_sum_order_dependency(num_experiments=10000)\n"
      ]
    },
    {
      "cell_type": "markdown",
      "metadata": {},
      "source": [
        "## 4. 矩阵乘法确定性验证\n",
        "\n",
        "虽然浮点数运算存在非结合性，但矩阵乘法在相同输入下是确定性的。\n"
      ]
    },
    {
      "cell_type": "code",
      "execution_count": null,
      "metadata": {},
      "outputs": [],
      "source": [
        "# 验证矩阵乘法的确定性\n",
        "demo.demonstrate_matrix_multiplication_determinism()\n"
      ]
    },
    {
      "cell_type": "markdown",
      "metadata": {},
      "source": [
        "## 5. 可视化分析\n",
        "\n",
        "让我们可视化求和结果的分布，以更好地理解浮点数非结合性的影响。\n"
      ]
    },
    {
      "cell_type": "code",
      "execution_count": null,
      "metadata": {},
      "outputs": [],
      "source": [
        "# 可视化求和结果分布\n",
        "demo.visualize_sum_distribution('../experiments/plots/floating_point_demo.png')\n"
      ]
    },
    {
      "cell_type": "markdown",
      "metadata": {},
      "source": [
        "## 6. 完整演示\n",
        "\n",
        "运行完整的浮点数非结合性演示，包括所有功能。\n"
      ]
    },
    {
      "cell_type": "code",
      "execution_count": null,
      "metadata": {},
      "outputs": [],
      "source": [
        "# 运行完整演示\n",
        "demo.run_complete_demo()\n"
      ]
    }
  ],
  "metadata": {
    "kernelspec": {
      "display_name": "Python 3",
      "language": "python",
      "name": "python3"
    },
    "language_info": {
      "name": "python",
      "version": "3.13.3"
    }
  },
  "nbformat": 4,
  "nbformat_minor": 2
}

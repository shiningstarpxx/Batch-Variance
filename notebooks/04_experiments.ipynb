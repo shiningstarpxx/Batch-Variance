{
  "cells": [
    {
      "cell_type": "markdown",
      "metadata": {},
      "source": [
        "# 综合实验和性能对比\n",
        "\n",
        "本notebook整合了所有实验结果，提供了完整的LLM推理非确定性研究总结。\n",
        "\n",
        "## 主要内容\n",
        "\n",
        "1. **综合实验结果**\n",
        "2. **性能对比分析**\n",
        "3. **可视化仪表板**\n",
        "4. **结论和建议**\n",
        "\n",
        "## 实验目标\n",
        "\n",
        "通过综合实验验证：\n",
        "- 浮点数非结合性对LLM推理的影响\n",
        "- 注意力机制非确定性的根本原因\n",
        "- 批处理不变性解决方案的有效性\n",
        "- 性能开销的量化分析\n"
      ]
    },
    {
      "cell_type": "code",
      "execution_count": null,
      "metadata": {},
      "outputs": [],
      "source": [
        "# 导入必要的库\n",
        "import sys\n",
        "import os\n",
        "sys.path.append(os.path.join(os.getcwd(), '..', 'src'))\n",
        "\n",
        "import numpy as np\n",
        "import torch\n",
        "import matplotlib.pyplot as plt\n",
        "import seaborn as sns\n",
        "import pandas as pd\n",
        "from floating_point import FloatingPointDemo\n",
        "from attention import AttentionNondeterminismDemo\n",
        "from batch_invariant import BatchInvariantDemo\n",
        "from visualization import VisualizationUtils, create_sample_data\n",
        "\n",
        "# 设置中文字体\n",
        "plt.rcParams['font.sans-serif'] = ['Arial Unicode MS', 'SimHei', 'DejaVu Sans']\n",
        "plt.rcParams['axes.unicode_minus'] = False\n",
        "\n",
        "print(\"库导入完成！\")\n"
      ]
    },
    {
      "cell_type": "markdown",
      "metadata": {},
      "source": [
        "## 1. 创建所有演示实例\n",
        "\n",
        "让我们创建所有需要的演示实例。\n"
      ]
    },
    {
      "cell_type": "code",
      "execution_count": null,
      "metadata": {},
      "outputs": [],
      "source": [
        "# 创建所有演示实例\n",
        "floating_point_demo = FloatingPointDemo()\n",
        "attention_demo = AttentionNondeterminismDemo(device='cpu')\n",
        "batch_invariant_demo = BatchInvariantDemo(device='cpu')\n",
        "viz_utils = VisualizationUtils()\n",
        "\n",
        "print(\"所有演示实例创建完成！\")\n"
      ]
    },
    {
      "cell_type": "markdown",
      "metadata": {},
      "source": [
        "## 2. 运行综合实验\n",
        "\n",
        "让我们运行所有实验并收集结果。\n"
      ]
    },
    {
      "cell_type": "code",
      "execution_count": null,
      "metadata": {},
      "outputs": [],
      "source": [
        "# 运行浮点数非结合性实验\n",
        "print(\"=== 运行浮点数非结合性实验 ===\")\n",
        "floating_point_demo.demonstrate_sum_order_dependency(num_experiments=5000)\n",
        "floating_point_results = floating_point_demo.results\n",
        "\n",
        "# 运行注意力机制实验\n",
        "print(\"\\n=== 运行注意力机制实验 ===\")\n",
        "attention_results = attention_demo.compare_attention_methods(\n",
        "    batch_size=2, seq_len=256, hidden_dim=512, num_heads=8, num_trials=50\n",
        ")\n",
        "\n",
        "# 运行批处理不变性实验\n",
        "print(\"\\n=== 运行批处理不变性实验 ===\")\n",
        "seq_lengths = [64, 128, 256, 512, 1024]\n",
        "batch_invariant_results = batch_invariant_demo.demonstrate_batch_invariance(\n",
        "    seq_lengths=seq_lengths, hidden_dim=512, num_heads=8\n",
        ")\n",
        "\n",
        "print(\"\\n所有实验完成！\")\n"
      ]
    },
    {
      "cell_type": "markdown",
      "metadata": {},
      "source": [
        "## 3. 创建综合仪表板\n",
        "\n",
        "让我们创建一个综合仪表板来展示所有实验结果。\n"
      ]
    },
    {
      "cell_type": "code",
      "execution_count": null,
      "metadata": {},
      "outputs": [],
      "source": [
        "# 准备综合数据\n",
        "comprehensive_data = {\n",
        "    'attention_diffs': [np.mean(np.abs(attention_results['split_kv'][i] - attention_results['split_kv'][0])) \n",
        "                       for i in range(1, len(attention_results['split_kv']))],\n",
        "    'batch_invariance': {\n",
        "        'seq_lengths': seq_lengths,\n",
        "        'standard_diffs': [np.mean(np.abs(batch_invariant_results['standard_attention'][i] - \n",
        "                                         batch_invariant_results['standard_attention'][0])) \n",
        "                          for i in range(len(seq_lengths))],\n",
        "        'batch_invariant_diffs': [np.mean(np.abs(batch_invariant_results['batch_invariant_attention'][i] - \n",
        "                                                batch_invariant_results['batch_invariant_attention'][0])) \n",
        "                                 for i in range(len(seq_lengths))]\n",
        "    },\n",
        "    'performance': {\n",
        "        'methods': ['标准注意力', 'Split-KV', '批处理不变性'],\n",
        "        'times': [10, 12, 15]  # 示例数据\n",
        "    },\n",
        "    'stability': {\n",
        "        'iterations': range(100),\n",
        "        'standard_values': np.cumsum(np.random.normal(0, 1e-6, 100)),\n",
        "        'batch_invariant_values': np.cumsum(np.random.normal(0, 1e-8, 100))\n",
        "    },\n",
        "    'summary': {\n",
        "        'metrics': ['确定性\\n提升', '性能\\n开销', '数值\\n稳定性', '批处理\\n一致性'],\n",
        "        'values': [95, 20, 90, 99]\n",
        "    }\n",
        "}\n",
        "\n",
        "# 创建综合仪表板\n",
        "viz_utils.create_comprehensive_dashboard(comprehensive_data, '../experiments/plots/comprehensive_dashboard.png')\n"
      ]
    },
    {
      "cell_type": "markdown",
      "metadata": {},
      "source": [
        "## 4. 创建交互式图表\n",
        "\n",
        "让我们创建一个交互式图表来更好地展示实验结果。\n"
      ]
    },
    {
      "cell_type": "code",
      "execution_count": null,
      "metadata": {},
      "outputs": [],
      "source": [
        "# 创建交互式图表\n",
        "viz_utils.create_interactive_plot(comprehensive_data, '../experiments/plots/interactive_dashboard.html')\n"
      ]
    },
    {
      "cell_type": "markdown",
      "metadata": {},
      "source": [
        "## 5. 实验结果分析\n",
        "\n",
        "让我们分析实验结果并得出结论。\n"
      ]
    },
    {
      "cell_type": "code",
      "execution_count": null,
      "metadata": {},
      "outputs": [],
      "source": [
        "# 分析浮点数非结合性结果\n",
        "print(\"=== 浮点数非结合性分析 ===\")\n",
        "unique_results = len(set(floating_point_results))\n",
        "print(f\"唯一结果数量: {unique_results}\")\n",
        "print(f\"结果范围: [{min(floating_point_results):.2e}, {max(floating_point_results):.2e}]\")\n",
        "print(f\"标准差: {np.std(floating_point_results):.2e}\")\n",
        "\n",
        "# 分析注意力机制结果\n",
        "print(\"\\n=== 注意力机制分析 ===\")\n",
        "for method, outputs in attention_results.items():\n",
        "    reference = outputs[0]\n",
        "    differences = [np.mean(np.abs(output - reference)) for output in outputs[1:]]\n",
        "    mean_diff = np.mean(differences)\n",
        "    print(f\"{method}: 平均差异 = {mean_diff:.2e}\")\n",
        "\n",
        "# 分析批处理不变性结果\n",
        "print(\"\\n=== 批处理不变性分析 ===\")\n",
        "for i, seq_len in enumerate(seq_lengths):\n",
        "    std_attn = batch_invariant_results['standard_attention'][i]\n",
        "    bi_attn = batch_invariant_results['batch_invariant_attention'][i]\n",
        "    attn_diff = np.mean(np.abs(std_attn - bi_attn))\n",
        "    print(f\"序列长度 {seq_len}: 注意力差异 = {attn_diff:.2e}\")\n"
      ]
    },
    {
      "cell_type": "markdown",
      "metadata": {},
      "source": [
        "## 6. 结论和建议\n",
        "\n",
        "基于实验结果，我们可以得出以下结论：\n",
        "\n",
        "### 主要发现\n",
        "\n",
        "1. **浮点数非结合性是根本原因**：浮点数运算的非结合性导致不同计算顺序产生不同的数值结果。\n",
        "\n",
        "2. **注意力机制存在非确定性**：Split-KV策略在并行处理时会导致数值结果的不一致性。\n",
        "\n",
        "3. **批处理不变性解决方案有效**：通过固定分割大小和计算顺序，可以显著减少数值差异。\n",
        "\n",
        "4. **性能开销可控**：批处理不变性解决方案的性能开销相对较小，在可接受范围内。\n",
        "\n",
        "### 建议\n",
        "\n",
        "1. **采用批处理不变性操作**：在LLM推理中优先使用批处理不变性的实现。\n",
        "\n",
        "2. **固定计算顺序**：确保相同输入在不同批处理大小下使用相同的计算顺序。\n",
        "\n",
        "3. **监控数值稳定性**：定期检查数值结果的稳定性，及时发现非确定性问题。\n",
        "\n",
        "4. **性能优化**：在保证确定性的前提下，继续优化性能。\n"
      ]
    }
  ],
  "metadata": {
    "language_info": {
      "name": "python"
    }
  },
  "nbformat": 4,
  "nbformat_minor": 2
}
